{
 "cells": [
  {
   "cell_type": "code",
   "execution_count": 1,
   "id": "efa9e8bf",
   "metadata": {},
   "outputs": [],
   "source": [
    "ROOT = './dataset'"
   ]
  },
  {
   "cell_type": "code",
   "execution_count": 2,
   "id": "e2647c11",
   "metadata": {},
   "outputs": [],
   "source": [
    "import os\n",
    "os.environ[\"CUDA_VISIBLE_DEVICES\"]= '0,1,2,3,4,5,6,7'#K80 #'1,2'#P40\n",
    "import torch\n",
    "\n",
    "import sys\n",
    "sys.path.append('/mnt/mhjc/RS/ogblsc/ogb')"
   ]
  },
  {
   "cell_type": "code",
   "execution_count": 3,
   "id": "b0e2dd76",
   "metadata": {},
   "outputs": [
    {
     "name": "stderr",
     "output_type": "stream",
     "text": [
      "Using backend: pytorch\n"
     ]
    },
    {
     "name": "stdout",
     "output_type": "stream",
     "text": [
      "('O=C1C=CC(O1)C(c1ccccc1C)O', 5.292614392225)\n"
     ]
    }
   ],
   "source": [
    "from ogb.lsc import PCQM4MDataset\n",
    "dataset = PCQM4MDataset(only_smiles = True)\n",
    "\n",
    "# get i-th molecule and its target value (nan for test data)\n",
    "i = 1234\n",
    "print(dataset[i]) # ('O=C1C=CC(O1)C(c1ccccc1C)O', 5.292614392225)"
   ]
  },
  {
   "cell_type": "code",
   "execution_count": 4,
   "id": "79929c2e",
   "metadata": {},
   "outputs": [],
   "source": [
    "split_dict = dataset.get_idx_split()\n",
    "train_idx = split_dict['train'] # numpy array storing indices of training paper nodes\n",
    "valid_idx = split_dict['valid'] # numpy array storing indices of validation paper nodes\n",
    "test_idx = split_dict['test'] # numpy array storing indices of testing paper nodes"
   ]
  },
  {
   "cell_type": "code",
   "execution_count": 5,
   "id": "63b5d3ef",
   "metadata": {},
   "outputs": [],
   "source": [
    "from ogb.utils import smiles2graph\n",
    "\n",
    "# # if you use Pytorch Geometric (requires torch_geometric to be installed)\n",
    "from ogb.lsc import PygPCQM4MDataset\n",
    "pyg_dataset = PygPCQM4MDataset(root = ROOT, smiles2graph = smiles2graph) # pickle 을 사용해서 그런지, loading 시간이 훨씬 빠르다."
   ]
  },
  {
   "cell_type": "markdown",
   "id": "26c9e5c4",
   "metadata": {},
   "source": [
    "### Multi GPU"
   ]
  },
  {
   "cell_type": "code",
   "execution_count": 6,
   "id": "27953e2f",
   "metadata": {},
   "outputs": [],
   "source": [
    "import torch\n",
    "import torch.nn as nn\n",
    "from torch.nn import init\n",
    "import torch.nn.functional as F\n",
    "from torch_geometric.nn import GCNConv\n",
    "from torch_geometric.nn import global_mean_pool\n",
    "\n",
    "class Regressor(nn.Module):\n",
    "    def __init__(self, in_dim, hidden_dim):\n",
    "        super(Regressor, self).__init__()\n",
    "        torch.manual_seed(12345)\n",
    "        self.conv1 = GCNConv(in_dim, hidden_dim)\n",
    "        self.conv2 = GCNConv(hidden_dim, hidden_dim)\n",
    "        self.regress = nn.Linear(hidden_dim, 1)\n",
    "        self.atom_encoder = AtomEncoder(emb_dim = in_dim).to(torch.device('cuda'))\n",
    "\n",
    "    def forward(self, data):\n",
    "#         print('Inside Model:  num graphs: {}, device: {}'.format(\n",
    "#             data.num_graphs, data.batch.device))\n",
    "        h, edge_index, batch = data.x, data.edge_index, data.batch\n",
    "        \n",
    "        # 1. Obtain node embeddings \n",
    "        # Apply graph convolution and activation.\n",
    "        h = self.atom_encoder (h)\n",
    "        h = self.conv1(h, edge_index).relu()\n",
    "        h = self.conv2(h, edge_index).relu()\n",
    "        \n",
    "        # 2. Readout layer\n",
    "        h = global_mean_pool(h, batch) # [batch_size, hidden_channels]\n",
    "        \n",
    "        # 3. Apply a final classifier\n",
    "        h = F.dropout(h, p=0.5, training=self.training)\n",
    "        h = self.regress(h)\n",
    "        \n",
    "        \n",
    "        return h"
   ]
  },
  {
   "cell_type": "code",
   "execution_count": 48,
   "id": "3a43e629",
   "metadata": {},
   "outputs": [],
   "source": [
    "import torch.nn.functional as F\n",
    "from ogb.graphproppred.mol_encoder import AtomEncoder, BondEncoder\n",
    "\n",
    "def train(model, train_loader):\n",
    "    optimizer = torch.optim.Adam(model.parameters(), lr=0.001)\n",
    "    criterion = torch.nn.MSELoss()\n",
    "    model.train()\n",
    "    \n",
    "    count = 0\n",
    "    for data_list in train_loader:  # Iterate in batches over the training dataset.\n",
    "        out = model(data_list)  # Perform a single forward pass.\n",
    "        loss = criterion(out, torch.cat( [data.y for data in data_list] , dim = 0).reshape([-1,1]).to(torch.device('cuda')) )  # Compute the loss.\n",
    "        loss.backward()  # Derive gradients.\n",
    "        optimizer.step()  # Update parameters based on gradients.\n",
    "        optimizer.zero_grad()  # Clear gradients.\n",
    "        \n",
    "        if count % 2 == 0:\n",
    "            batch_loss = loss\n",
    "            print(f'Iter: {count:03d}, Train batch_loss: {batch_loss:.4f}')\n",
    "        count += 1\n",
    "        \n",
    "def test(model, loader):\n",
    "    model.eval()\n",
    "\n",
    "    tot_loss = 0\n",
    "    tot_count = 0\n",
    "    for data_list in loader:  # Iterate in batches over the training/test dataset.\n",
    "        out = model(data_list)\n",
    "        loss = F.mse_loss(out, torch.cat( [data.y for data in data_list] , dim = 0).reshape([-1,1]).to(torch.device('cuda')) )\n",
    "        tot_loss += loss*len(data_list)\n",
    "        tot_count += len(data_list)\n",
    "        \n",
    "    return tot_loss / tot_count # Derive mean squared error of regressions."
   ]
  },
  {
   "cell_type": "code",
   "execution_count": 41,
   "id": "8d3590ea",
   "metadata": {},
   "outputs": [],
   "source": [
    "from torch_geometric.data import DataListLoader\n",
    "torch.manual_seed(12345)\n",
    "\n",
    "train_loader = DataListLoader(pyg_dataset[[int(i) for i in train_idx]], batch_size=1024*8*8, shuffle=True)\n",
    "valid_loader = DataListLoader(pyg_dataset[[int(i) for i in valid_idx]], batch_size=1024*8*8, shuffle=False)\n",
    "test_loader = DataListLoader(pyg_dataset[[int(i) for i in test_idx]], batch_size=1024*8*8, shuffle=False)"
   ]
  },
  {
   "cell_type": "code",
   "execution_count": null,
   "id": "23adcac7",
   "metadata": {},
   "outputs": [],
   "source": [
    "# decay = 1-np.exp(-np.log(2)/26) # half-life = 26 iter (1024*8*8 ea. / batch)"
   ]
  },
  {
   "cell_type": "code",
   "execution_count": 17,
   "id": "1ccfe0d1",
   "metadata": {
    "collapsed": true,
    "jupyter": {
     "outputs_hidden": true
    },
    "tags": []
   },
   "outputs": [
    {
     "name": "stdout",
     "output_type": "stream",
     "text": [
      "Let's use 8 GPUs!\n",
      "Iter: 000, Train batch_loss: 32.7525\n",
      "Iter: 002, Train batch_loss: 30.9609\n",
      "Iter: 004, Train batch_loss: 29.0600\n",
      "Iter: 006, Train batch_loss: 26.7507\n",
      "Iter: 008, Train batch_loss: 24.2385\n",
      "Iter: 010, Train batch_loss: 21.5491\n",
      "Iter: 012, Train batch_loss: 18.8230\n",
      "Iter: 014, Train batch_loss: 15.6910\n",
      "Iter: 016, Train batch_loss: 12.5644\n",
      "Iter: 018, Train batch_loss: 9.6110\n",
      "Iter: 020, Train batch_loss: 6.7818\n",
      "Iter: 022, Train batch_loss: 4.5248\n",
      "Iter: 024, Train batch_loss: 3.2178\n",
      "Iter: 026, Train batch_loss: 2.9067\n",
      "Iter: 028, Train batch_loss: 3.5543\n",
      "Iter: 030, Train batch_loss: 4.3833\n",
      "Iter: 032, Train batch_loss: 4.4758\n",
      "Iter: 034, Train batch_loss: 4.0078\n",
      "Iter: 036, Train batch_loss: 3.3128\n",
      "Iter: 038, Train batch_loss: 2.8168\n",
      "Iter: 040, Train batch_loss: 2.6287\n",
      "Iter: 042, Train batch_loss: 2.6176\n",
      "Iter: 044, Train batch_loss: 2.7124\n",
      "Iter: 046, Train batch_loss: 2.7575\n",
      "Epoch: 001, Train loss: 1.4546, Test loss: nan\n",
      "Iter: 000, Train batch_loss: 2.8104\n",
      "Iter: 002, Train batch_loss: 2.5037\n",
      "Iter: 004, Train batch_loss: 2.5167\n",
      "Iter: 006, Train batch_loss: 2.3252\n",
      "Iter: 008, Train batch_loss: 2.2542\n",
      "Iter: 010, Train batch_loss: 2.2151\n",
      "Iter: 012, Train batch_loss: 2.1004\n",
      "Iter: 014, Train batch_loss: 2.0369\n",
      "Iter: 016, Train batch_loss: 2.0493\n",
      "Iter: 018, Train batch_loss: 1.9758\n",
      "Iter: 020, Train batch_loss: 1.9385\n",
      "Iter: 022, Train batch_loss: 1.9446\n",
      "Iter: 024, Train batch_loss: 1.8846\n",
      "Iter: 026, Train batch_loss: 1.8073\n",
      "Iter: 028, Train batch_loss: 1.8166\n",
      "Iter: 030, Train batch_loss: 1.7982\n",
      "Iter: 032, Train batch_loss: 1.7771\n",
      "Iter: 034, Train batch_loss: 1.7128\n",
      "Iter: 036, Train batch_loss: 1.7029\n",
      "Iter: 038, Train batch_loss: 1.7199\n",
      "Iter: 040, Train batch_loss: 1.7100\n",
      "Iter: 042, Train batch_loss: 1.6301\n",
      "Iter: 044, Train batch_loss: 1.6783\n",
      "Iter: 046, Train batch_loss: 1.6267\n",
      "Epoch: 002, Train loss: 0.5632, Test loss: nan\n",
      "Iter: 000, Train batch_loss: 1.6132\n",
      "Iter: 002, Train batch_loss: 1.6300\n",
      "Iter: 004, Train batch_loss: 1.6968\n",
      "Iter: 006, Train batch_loss: 1.6271\n",
      "Iter: 008, Train batch_loss: 1.6809\n",
      "Iter: 010, Train batch_loss: 1.6444\n",
      "Iter: 012, Train batch_loss: 1.6624\n",
      "Iter: 014, Train batch_loss: 1.6397\n",
      "Iter: 016, Train batch_loss: 1.5774\n",
      "Iter: 018, Train batch_loss: 1.6132\n",
      "Iter: 020, Train batch_loss: 1.6157\n",
      "Iter: 022, Train batch_loss: 1.6214\n",
      "Iter: 024, Train batch_loss: 1.6012\n",
      "Iter: 026, Train batch_loss: 1.5889\n",
      "Iter: 028, Train batch_loss: 1.6012\n",
      "Iter: 030, Train batch_loss: 1.5797\n",
      "Iter: 032, Train batch_loss: 1.6061\n",
      "Iter: 034, Train batch_loss: 1.6002\n",
      "Iter: 036, Train batch_loss: 1.5718\n",
      "Iter: 038, Train batch_loss: 1.5566\n",
      "Iter: 040, Train batch_loss: 1.5568\n",
      "Iter: 042, Train batch_loss: 1.5882\n",
      "Iter: 044, Train batch_loss: 1.5886\n",
      "Iter: 046, Train batch_loss: 1.6229\n",
      "Epoch: 003, Train loss: 0.5453, Test loss: nan\n",
      "Iter: 000, Train batch_loss: 1.5742\n",
      "Iter: 002, Train batch_loss: 1.5761\n",
      "Iter: 004, Train batch_loss: 1.6892\n",
      "Iter: 006, Train batch_loss: 1.6402\n",
      "Iter: 008, Train batch_loss: 1.5837\n",
      "Iter: 010, Train batch_loss: 1.6167\n",
      "Iter: 012, Train batch_loss: 1.6052\n",
      "Iter: 014, Train batch_loss: 1.5669\n",
      "Iter: 016, Train batch_loss: 1.5893\n",
      "Iter: 018, Train batch_loss: 1.6003\n",
      "Iter: 020, Train batch_loss: 1.5978\n",
      "Iter: 022, Train batch_loss: 1.5826\n",
      "Iter: 024, Train batch_loss: 1.5430\n",
      "Iter: 026, Train batch_loss: 1.5449\n",
      "Iter: 028, Train batch_loss: 1.5256\n",
      "Iter: 030, Train batch_loss: 1.5610\n",
      "Iter: 032, Train batch_loss: 1.5720\n",
      "Iter: 034, Train batch_loss: 1.5351\n",
      "Iter: 036, Train batch_loss: 1.5747\n",
      "Iter: 038, Train batch_loss: 1.5532\n",
      "Iter: 040, Train batch_loss: 1.5521\n",
      "Iter: 042, Train batch_loss: 1.5502\n",
      "Iter: 044, Train batch_loss: 1.5675\n",
      "Iter: 046, Train batch_loss: 1.5430\n",
      "Epoch: 004, Train loss: 0.5301, Test loss: nan\n"
     ]
    }
   ],
   "source": [
    "from torch_geometric.nn import DataParallel\n",
    "\n",
    "model = Regressor(in_dim = 100, hidden_dim =64)\n",
    "print('Let\\'s use', torch.cuda.device_count(), 'GPUs!')\n",
    "model = DataParallel(model).to(torch.device('cuda'))\n",
    "for epoch in range(1, 5):\n",
    "    train(model, train_loader)\n",
    "    train_loss = test(model, train_loader)\n",
    "    valid_loss = test(model, valid_loader)\n",
    "    print(f'Epoch: {epoch:03d}, Train loss: {train_loss:.4f}, Valid loss: {valid_loss:.4f}')\n",
    "                      "
   ]
  },
  {
   "cell_type": "code",
   "execution_count": 65,
   "id": "cdb0ef70",
   "metadata": {
    "tags": []
   },
   "outputs": [
    {
     "data": {
      "text/html": [
       "<div>\n",
       "<style scoped>\n",
       "    .dataframe tbody tr th:only-of-type {\n",
       "        vertical-align: middle;\n",
       "    }\n",
       "\n",
       "    .dataframe tbody tr th {\n",
       "        vertical-align: top;\n",
       "    }\n",
       "\n",
       "    .dataframe thead th {\n",
       "        text-align: right;\n",
       "    }\n",
       "</style>\n",
       "<table border=\"1\" class=\"dataframe\">\n",
       "  <thead>\n",
       "    <tr style=\"text-align: right;\">\n",
       "      <th></th>\n",
       "      <th>idx</th>\n",
       "      <th>smiles</th>\n",
       "      <th>homolumogap</th>\n",
       "    </tr>\n",
       "  </thead>\n",
       "  <tbody>\n",
       "    <tr>\n",
       "      <th>0</th>\n",
       "      <td>0</td>\n",
       "      <td>Cc1ccc(cc1)C1C=c2cnccc2=NC1=O</td>\n",
       "      <td>3.047675</td>\n",
       "    </tr>\n",
       "    <tr>\n",
       "      <th>1</th>\n",
       "      <td>1</td>\n",
       "      <td>COc1cc(OC)ccc1C=CN(C(=O)C)C</td>\n",
       "      <td>4.410966</td>\n",
       "    </tr>\n",
       "    <tr>\n",
       "      <th>2</th>\n",
       "      <td>2</td>\n",
       "      <td>C=CCN(C(=O)C)C=Cc1ccccc1C</td>\n",
       "      <td>4.639541</td>\n",
       "    </tr>\n",
       "    <tr>\n",
       "      <th>3</th>\n",
       "      <td>3</td>\n",
       "      <td>C=CCN(C(=O)C)C=Cc1ccccc1F</td>\n",
       "      <td>4.492600</td>\n",
       "    </tr>\n",
       "    <tr>\n",
       "      <th>4</th>\n",
       "      <td>4</td>\n",
       "      <td>C=CCN(C(=O)C)C=Cc1ccccc1Cl</td>\n",
       "      <td>4.612330</td>\n",
       "    </tr>\n",
       "  </tbody>\n",
       "</table>\n",
       "</div>"
      ],
      "text/plain": [
       "   idx                         smiles  homolumogap\n",
       "0    0  Cc1ccc(cc1)C1C=c2cnccc2=NC1=O     3.047675\n",
       "1    1    COc1cc(OC)ccc1C=CN(C(=O)C)C     4.410966\n",
       "2    2      C=CCN(C(=O)C)C=Cc1ccccc1C     4.639541\n",
       "3    3      C=CCN(C(=O)C)C=Cc1ccccc1F     4.492600\n",
       "4    4     C=CCN(C(=O)C)C=Cc1ccccc1Cl     4.612330"
      ]
     },
     "execution_count": 65,
     "metadata": {},
     "output_type": "execute_result"
    }
   ],
   "source": [
    "data_df.head()"
   ]
  },
  {
   "cell_type": "code",
   "execution_count": 64,
   "id": "128367ec",
   "metadata": {},
   "outputs": [],
   "source": [
    "import pandas as pd\n",
    "import os.path as osp\n",
    "data_df = pd.read_csv(osp.join('dataset/pcqm4m_kddcup2021/raw', 'data.csv.gz'))"
   ]
  },
  {
   "cell_type": "code",
   "execution_count": 80,
   "id": "fe83cfb1",
   "metadata": {},
   "outputs": [],
   "source": [
    "valid_out = model( pyg_dataset[list(valid_idx)] )"
   ]
  },
  {
   "cell_type": "code",
   "execution_count": 101,
   "id": "75bbfc57",
   "metadata": {},
   "outputs": [
    {
     "data": {
      "image/png": "[encoded data removed]",
      "text/plain": [
       "<Figure size 720x720 with 1 Axes>"
      ]
     },
     "metadata": {
      "needs_background": "light"
     },
     "output_type": "display_data"
    }
   ],
   "source": [
    "from matplotlib import pyplot as plt\n",
    "plt.figure(figsize = [10,10])\n",
    "plt.scatter(list(valid_out.cpu().detach().numpy()), list(data_df.iloc[valid_idx, 2]))\n",
    "plt.xlim((0,9))\n",
    "plt.axis('equal')\n",
    "plt.axline([0,0],[15,15], c = 'black')\n",
    "plt.show()"
   ]
  },
  {
   "cell_type": "code",
   "execution_count": 75,
   "id": "7dc7006f",
   "metadata": {
    "tags": []
   },
   "outputs": [
    {
     "ename": "TypeError",
     "evalue": "No registered converter was able to produce a C++ rvalue of type std::__cxx11::basic_string<wchar_t, std::char_traits<wchar_t>, std::allocator<wchar_t> > from this Python object of type Series",
     "output_type": "error",
     "traceback": [
      "\u001b[0;31m---------------------------------------------------------------------------\u001b[0m",
      "\u001b[0;31mTypeError\u001b[0m                                 Traceback (most recent call last)",
      "\u001b[0;32m<ipython-input-75-937ec32cd67d>\u001b[0m in \u001b[0;36m<module>\u001b[0;34m\u001b[0m\n\u001b[1;32m      5\u001b[0m \u001b[0msmiles\u001b[0m \u001b[0;34m=\u001b[0m \u001b[0mdata_df\u001b[0m\u001b[0;34m.\u001b[0m\u001b[0miloc\u001b[0m\u001b[0;34m[\u001b[0m\u001b[0midx\u001b[0m\u001b[0;34m,\u001b[0m \u001b[0;36m1\u001b[0m\u001b[0;34m]\u001b[0m\u001b[0;34m\u001b[0m\u001b[0m\n\u001b[1;32m      6\u001b[0m \u001b[0mhomolumogap\u001b[0m \u001b[0;34m=\u001b[0m \u001b[0mdata_df\u001b[0m\u001b[0;34m.\u001b[0m\u001b[0miloc\u001b[0m\u001b[0;34m[\u001b[0m\u001b[0midx\u001b[0m\u001b[0;34m,\u001b[0m\u001b[0;36m2\u001b[0m\u001b[0;34m]\u001b[0m\u001b[0;34m\u001b[0m\u001b[0m\n\u001b[0;32m----> 7\u001b[0;31m \u001b[0mgraph\u001b[0m \u001b[0;34m=\u001b[0m \u001b[0msmiles2graph\u001b[0m\u001b[0;34m(\u001b[0m\u001b[0msmiles\u001b[0m\u001b[0;34m)\u001b[0m\u001b[0;34m\u001b[0m\u001b[0m\n\u001b[0m\u001b[1;32m      8\u001b[0m \u001b[0;34m\u001b[0m\u001b[0m\n\u001b[1;32m      9\u001b[0m \u001b[0;32massert\u001b[0m\u001b[0;34m(\u001b[0m\u001b[0mlen\u001b[0m\u001b[0;34m(\u001b[0m\u001b[0mgraph\u001b[0m\u001b[0;34m[\u001b[0m\u001b[0;34m'edge_feat'\u001b[0m\u001b[0;34m]\u001b[0m\u001b[0;34m)\u001b[0m \u001b[0;34m==\u001b[0m \u001b[0mgraph\u001b[0m\u001b[0;34m[\u001b[0m\u001b[0;34m'edge_index'\u001b[0m\u001b[0;34m]\u001b[0m\u001b[0;34m.\u001b[0m\u001b[0mshape\u001b[0m\u001b[0;34m[\u001b[0m\u001b[0;36m1\u001b[0m\u001b[0;34m]\u001b[0m\u001b[0;34m)\u001b[0m\u001b[0;34m\u001b[0m\u001b[0m\n",
      "\u001b[0;32m~/miniconda3/envs/ogblsc/lib/python3.7/site-packages/ogb/utils/mol.py\u001b[0m in \u001b[0;36msmiles2graph\u001b[0;34m(smiles_string)\u001b[0m\n\u001b[1;32m     11\u001b[0m     \"\"\"\n\u001b[1;32m     12\u001b[0m \u001b[0;34m\u001b[0m\u001b[0m\n\u001b[0;32m---> 13\u001b[0;31m     \u001b[0mmol\u001b[0m \u001b[0;34m=\u001b[0m \u001b[0mChem\u001b[0m\u001b[0;34m.\u001b[0m\u001b[0mMolFromSmiles\u001b[0m\u001b[0;34m(\u001b[0m\u001b[0msmiles_string\u001b[0m\u001b[0;34m)\u001b[0m\u001b[0;34m\u001b[0m\u001b[0m\n\u001b[0m\u001b[1;32m     14\u001b[0m \u001b[0;34m\u001b[0m\u001b[0m\n\u001b[1;32m     15\u001b[0m     \u001b[0;31m# atoms\u001b[0m\u001b[0;34m\u001b[0m\u001b[0;34m\u001b[0m\u001b[0m\n",
      "\u001b[0;31mTypeError\u001b[0m: No registered converter was able to produce a C++ rvalue of type std::__cxx11::basic_string<wchar_t, std::char_traits<wchar_t>, std::allocator<wchar_t> > from this Python object of type Series"
     ]
    }
   ],
   "source": [
    "from torch_geometric.data import Data\n",
    "\n",
    "= list()\n",
    "for idx in train_idx:\n",
    "    data = Data()\n",
    "    smiles = dataset[idx][0]\n",
    "    homolumogap = dataset[idx][1]\n",
    "    graph = smiles2graph(smiles)\n",
    "\n",
    "    assert(len(graph['edge_feat']) == graph['edge_index'].shape[1])\n",
    "    assert(len(graph['node_feat']) == graph['num_nodes'])\n",
    "\n",
    "    data.__num_nodes__ = int(graph['num_nodes'])\n",
    "    data.edge_index = torch.from_numpy(graph['edge_index']).to(torch.int64)\n",
    "    data.edge_attr = torch.from_numpy(graph['edge_feat']).to(torch.int64)\n",
    "    data.x = torch.from_numpy(graph['node_feat']).to(torch.int64)\n",
    "    data.y = torch.Tensor([homolumogap])\n",
    "\n",
    "    model.eval()\n",
    "    out = model([data])"
   ]
  },
  {
   "cell_type": "code",
   "execution_count": 63,
   "id": "a4a49cc7",
   "metadata": {},
   "outputs": [
    {
     "data": {
      "text/plain": [
       "'COc1ccccc1N[C@@H](C(=NC(=N)O)O)C'"
      ]
     },
     "execution_count": 63,
     "metadata": {},
     "output_type": "execute_result"
    }
   ],
   "source": [
    "smiles"
   ]
  },
  {
   "cell_type": "code",
   "execution_count": 62,
   "id": "afc6064c",
   "metadata": {},
   "outputs": [
    {
     "data": {
      "text/plain": [
       "tensor([[4.8430]], device='cuda:0', grad_fn=<GatherBackward>)"
      ]
     },
     "execution_count": 62,
     "metadata": {},
     "output_type": "execute_result"
    }
   ],
   "source": [
    "out # HOMO-LUMO prediction"
   ]
  },
  {
   "cell_type": "code",
   "execution_count": 71,
   "id": "cde465d6",
   "metadata": {},
   "outputs": [
    {
     "data": {
      "text/plain": [
       "tensor(1.2605, device='cuda:0', grad_fn=<MseLossBackward>)"
      ]
     },
     "execution_count": 71,
     "metadata": {},
     "output_type": "execute_result"
    }
   ],
   "source": [
    "F.mse_loss(out.reshape([-1,]), data.y.to(torch.device('cuda')) )"
   ]
  },
  {
   "cell_type": "markdown",
   "id": "ac14ec84",
   "metadata": {},
   "source": [
    "### Single GPU"
   ]
  },
  {
   "cell_type": "code",
   "execution_count": 7,
   "id": "85700525",
   "metadata": {},
   "outputs": [],
   "source": [
    "import torch\n",
    "import torch.nn as nn\n",
    "from torch.nn import init\n",
    "import torch.nn.functional as F\n",
    "from torch_geometric.nn import GCNConv\n",
    "from torch_geometric.nn import global_mean_pool\n",
    "\n",
    "class Regressor(nn.Module):\n",
    "    def __init__(self, in_dim, hidden_dim):\n",
    "        super(Regressor, self).__init__()\n",
    "        torch.manual_seed(12345)\n",
    "        self.conv1 = GCNConv(in_dim, hidden_dim)\n",
    "        self.conv2 = GCNConv(hidden_dim, hidden_dim)\n",
    "        self.regress = nn.Linear(hidden_dim, 1)\n",
    "\n",
    "    def forward(self, h, edge_index, batch):\n",
    "        # 1. Obtain node embeddings \n",
    "        # Apply graph convolution and activation.\n",
    "        atom_encoder = AtomEncoder(emb_dim = 100).to(torch.device('cuda'))\n",
    "        h = atom_encoder(h)\n",
    "        h = self.conv1(h, edge_index).relu()\n",
    "        h = self.conv2(h, edge_index).relu()\n",
    "        \n",
    "        # 2. Readout layer\n",
    "        h = global_mean_pool(h, batch) # [batch_size, hidden_channels]\n",
    "        \n",
    "        # 3. Apply a final classifier\n",
    "        h = F.dropout(h, p=0.5, training=self.training)\n",
    "        h = self.regress(h)\n",
    "        \n",
    "        return h"
   ]
  },
  {
   "cell_type": "code",
   "execution_count": 11,
   "id": "bd15c154",
   "metadata": {},
   "outputs": [],
   "source": [
    "import torch.nn.functional as F\n",
    "from ogb.graphproppred.mol_encoder import AtomEncoder, BondEncoder\n",
    "\n",
    "def train(model, train_loader):\n",
    "    optimizer = torch.optim.Adam(model.parameters(), lr=0.01)\n",
    "    criterion = torch.nn.MSELoss()\n",
    "    model.train()\n",
    "\n",
    "    for data in train_loader:  # Iterate in batches over the training dataset.\n",
    "        data.to(torch.device('cuda'))\n",
    "        out = model(data.x, \n",
    "                    data.edge_index, \n",
    "                    data.batch)  # Perform a single forward pass.\n",
    "        loss = criterion(out, data.y.reshape([-1,1]) )  # Compute the loss.\n",
    "        loss.backward()  # Derive gradients.\n",
    "        optimizer.step()  # Update parameters based on gradients.\n",
    "        optimizer.zero_grad()  # Clear gradients.\n",
    "\n",
    "def test(model, loader):\n",
    "    model.eval()\n",
    "\n",
    "    loss = 0\n",
    "    for data in loader:  # Iterate in batches over the training/test dataset.\n",
    "        data.to(torch.device('cuda'))\n",
    "        out = model(data.x, \n",
    "                    data.edge_index, \n",
    "                    data.batch)\n",
    "        loss += F.mse_loss(out, data.y.reshape([-1,1]) )\n",
    "    return loss # Derive mean squared error of regressions."
   ]
  },
  {
   "cell_type": "code",
   "execution_count": 8,
   "id": "2ae22adc",
   "metadata": {},
   "outputs": [],
   "source": [
    "from torch_geometric.data import DataLoader\n",
    "torch.manual_seed(12345)\n",
    "\n",
    "train_loader = DataLoader(pyg_dataset[[int(i) for i in train_idx]], batch_size=64, shuffle=True)\n",
    "test_loader = DataLoader(pyg_dataset[[int(i) for i in test_idx]], batch_size=64, shuffle=False)"
   ]
  },
  {
   "cell_type": "code",
   "execution_count": null,
   "id": "140e8587",
   "metadata": {},
   "outputs": [
    {
     "name": "stderr",
     "output_type": "stream",
     "text": [
      "/mnt/mhjc/miniconda3/envs/ogblsc/lib/python3.7/site-packages/torch/nn/modules/loss.py:445: UserWarning: Using a target size (torch.Size([64])) that is different to the input size (torch.Size([64, 1])). This will likely lead to incorrect results due to broadcasting. Please ensure they have the same size.\n",
      "  return F.mse_loss(input, target, reduction=self.reduction)\n",
      "/mnt/mhjc/miniconda3/envs/ogblsc/lib/python3.7/site-packages/torch/nn/modules/loss.py:445: UserWarning: Using a target size (torch.Size([48])) that is different to the input size (torch.Size([48, 1])). This will likely lead to incorrect results due to broadcasting. Please ensure they have the same size.\n",
      "  return F.mse_loss(input, target, reduction=self.reduction)\n",
      "/mnt/mhjc/miniconda3/envs/ogblsc/lib/python3.7/site-packages/ipykernel_launcher.py:28: UserWarning: Using a target size (torch.Size([64])) that is different to the input size (torch.Size([64, 1])). This will likely lead to incorrect results due to broadcasting. Please ensure they have the same size.\n"
     ]
    }
   ],
   "source": [
    "model = Regressor(in_dim = 100, hidden_dim =64).to(torch.device('cuda'))\n",
    "for epoch in range(1, 201):\n",
    "    train(model, train_loader)\n",
    "    train_loss = test(model, train_loader)\n",
    "    test_loss = test(model, test_loader)\n",
    "    print(f'Epoch: {epoch:03d}, Train loss: {train_loss:.4f}, Test loss: {test_loss:.4f}')\n",
    "                      "
   ]
  },
  {
   "cell_type": "code",
   "execution_count": 45,
   "id": "09ef09a6",
   "metadata": {},
   "outputs": [
    {
     "data": {
      "text/plain": [
       "0"
      ]
     },
     "execution_count": 45,
     "metadata": {},
     "output_type": "execute_result"
    }
   ],
   "source": [
    "# del model\n",
    "# del dataloader\n",
    "# torch.cuda.empty_cache()\n",
    "import gc\n",
    "gc.collect()"
   ]
  },
  {
   "cell_type": "code",
   "execution_count": 61,
   "id": "a0aeefa0",
   "metadata": {},
   "outputs": [
    {
     "name": "stdout",
     "output_type": "stream",
     "text": [
      "(Graph(num_nodes=18, num_edges=40,\n",
      "      ndata_schemes={'feat': Scheme(shape=(9,), dtype=torch.int64)}\n",
      "      edata_schemes={'feat': Scheme(shape=(3,), dtype=torch.int64)}), tensor(3.0477))\n"
     ]
    }
   ],
   "source": [
    "print(dgl_dataset[0])"
   ]
  }
 ],
 "metadata": {
  "kernelspec": {
   "display_name": "Python 3",
   "language": "python",
   "name": "python3"
  },
  "language_info": {
   "codemirror_mode": {
    "name": "ipython",
    "version": 3
   },
   "file_extension": ".py",
   "mimetype": "text/x-python",
   "name": "python",
   "nbconvert_exporter": "python",
   "pygments_lexer": "ipython3",
   "version": "3.7.0"
  }
 },
 "nbformat": 4,
 "nbformat_minor": 5
}
